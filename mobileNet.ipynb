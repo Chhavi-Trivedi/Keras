{
  "nbformat": 4,
  "nbformat_minor": 0,
  "metadata": {
    "colab": {
      "name": "Untitled10.ipynb",
      "provenance": []
    },
    "kernelspec": {
      "name": "python3",
      "display_name": "Python 3"
    }
  },
  "cells": [
    {
      "cell_type": "markdown",
      "metadata": {
        "id": "uamrQunuPdIY"
      },
      "source": [
        "# **MobileNet with Keras**\r\n",
        "\r\n",
        "MobileNets are a class of small, low-latency, low-power models that can be used for classification, detection, and other common tasks convolutional neural networks are good for. Because of their small size, these are considered great deep learning models to be used on mobile devices."
      ]
    },
    {
      "cell_type": "code",
      "metadata": {
        "colab": {
          "base_uri": "https://localhost:8080/"
        },
        "id": "qKiJjK8-mSI0",
        "outputId": "94ee0ca0-fd88-48e7-fb06-92d77ef147eb"
      },
      "source": [
        "from google.colab import drive\r\n",
        "drive.mount('/content/drive')"
      ],
      "execution_count": 46,
      "outputs": [
        {
          "output_type": "stream",
          "text": [
            "Drive already mounted at /content/drive; to attempt to forcibly remount, call drive.mount(\"/content/drive\", force_remount=True).\n"
          ],
          "name": "stdout"
        }
      ]
    },
    {
      "cell_type": "code",
      "metadata": {
        "id": "4AC7VoSrmpEH"
      },
      "source": [
        "import numpy as np\r\n",
        "import tensorflow as tf\r\n",
        "from tensorflow import keras\r\n",
        "from tensorflow.keras.layers import Dense, Activation\r\n",
        "from tensorflow.keras.optimizers import Adam\r\n",
        "from tensorflow.keras.metrics import categorical_crossentropy\r\n",
        "from tensorflow.keras.preprocessing.image import ImageDataGenerator\r\n",
        "from tensorflow.keras.preprocessing import image\r\n",
        "from tensorflow.keras.models import Model\r\n",
        "from tensorflow.keras.applications import imagenet_utils\r\n",
        "from sklearn.metrics import confusion_matrix\r\n",
        "import itertools\r\n",
        "import os\r\n",
        "import shutil\r\n",
        "import random\r\n",
        "import matplotlib.pyplot as plt\r\n",
        "%matplotlib inline"
      ],
      "execution_count": 47,
      "outputs": []
    },
    {
      "cell_type": "markdown",
      "metadata": {
        "id": "vtOmYM6wrnCM"
      },
      "source": [
        "## **Download a MobileNet model**\r\n",
        "We first make a call to tf.keras.applications.mobilenet.MobileNet() to obtain a copy of a single pretrained MobileNet with weights that were saved from being trained on ImageNet images. We’re assigning this model to the variable mobile."
      ]
    },
    {
      "cell_type": "code",
      "metadata": {
        "id": "lSDi5LehQHCr"
      },
      "source": [
        "mobile = tf.keras.applications.mobilenet.MobileNet()"
      ],
      "execution_count": 48,
      "outputs": []
    },
    {
      "cell_type": "markdown",
      "metadata": {
        "id": "rNlCntIzr_0k"
      },
      "source": [
        "## **Preprocessing of the image**\r\n",
        "The is to process the image to get it in a format that the model expects.\r\n"
      ]
    },
    {
      "cell_type": "code",
      "metadata": {
        "id": "jdJrK9NnlnQn"
      },
      "source": [
        "def prepare_image(file):\r\n",
        "    img_path = '' # defining the relative path\r\n",
        "    #load_img() returns an instance of a PIL image.\r\n",
        "    img = image.load_img(img_path + file, target_size=(224, 224)) #(224,224) is the default size for MobileNet).\r\n",
        "    img_array = image.img_to_array(img) #convert the PIL image into an array \r\n",
        "    img_array_expanded_dims = np.expand_dims(img_array, axis=0) #expand the dimensions of that array\r\n",
        "    return tf.keras.applications.mobilenet.preprocess_input(img_array_expanded_dims) #preprocesses the given image data to be in the same format as the images that MobileNet was originally trained on. Specifically, it’s scaling the pixel values in the image between -1 and 1, and this function will return the preprocessed image data as a numpy array."
      ],
      "execution_count": 53,
      "outputs": []
    },
    {
      "cell_type": "markdown",
      "metadata": {
        "id": "LW5-fLc_tX3O"
      },
      "source": [
        "## **Predicting With MobileNet**\r\n",
        "Let's see if this model can predict different dog breeds correctly."
      ]
    },
    {
      "cell_type": "markdown",
      "metadata": {
        "id": "7IsL0vQPu1mR"
      },
      "source": [
        "### 1.**Husky**"
      ]
    },
    {
      "cell_type": "code",
      "metadata": {
        "colab": {
          "base_uri": "https://localhost:8080/",
          "height": 217
        },
        "id": "YKeweunZls2W",
        "outputId": "2309b154-c0c2-4cb2-d0a2-05d6061c9ad7"
      },
      "source": [
        "from IPython.display import Image\r\n",
        "Image('/content/drive/MyDrive/1.jpg', width=300,height=200)"
      ],
      "execution_count": 60,
      "outputs": [
        {
          "output_type": "execute_result",
          "data": {
            "image/jpeg": "[encoded data removed]",
            "text/plain": [
              "<IPython.core.display.Image object>"
            ]
          },
          "metadata": {
            "tags": [],
            "image/jpeg": {
              "width": 300,
              "height": 200
            }
          },
          "execution_count": 60
        }
      ]
    },
    {
      "cell_type": "code",
      "metadata": {
        "id": "9NwILcbMlxkM"
      },
      "source": [
        "preprocessed_image = prepare_image('/content/drive/MyDrive/1.jpg')\r\n",
        "predictions = mobile.predict(preprocessed_image)"
      ],
      "execution_count": 61,
      "outputs": []
    },
    {
      "cell_type": "code",
      "metadata": {
        "colab": {
          "base_uri": "https://localhost:8080/"
        },
        "id": "HmQw7n7Jl00T",
        "outputId": "a0a8dc20-3ed3-4898-dc50-a9eaae8fef1e"
      },
      "source": [
        "results = imagenet_utils.decode_predictions(predictions) #It returns the top five ImageNet class predictions with the ImageNet class ID, the class label, and the probability.\r\n",
        "results"
      ],
      "execution_count": 62,
      "outputs": [
        {
          "output_type": "execute_result",
          "data": {
            "text/plain": [
              "[[('n02110185', 'Siberian_husky', 0.4574655),\n",
              "  ('n02109961', 'Eskimo_dog', 0.3544884),\n",
              "  ('n02110063', 'malamute', 0.18268324),\n",
              "  ('n02091467', 'Norwegian_elkhound', 0.0027045475),\n",
              "  ('n02114712', 'red_wolf', 0.000541704)]]"
            ]
          },
          "metadata": {
            "tags": []
          },
          "execution_count": 62
        }
      ]
    },
    {
      "cell_type": "markdown",
      "metadata": {
        "id": "DXPwGaDgu8nk"
      },
      "source": [
        "### 2.**Malamute**"
      ]
    },
    {
      "cell_type": "code",
      "metadata": {
        "colab": {
          "base_uri": "https://localhost:8080/",
          "height": 217
        },
        "id": "5shxbHjQvViI",
        "outputId": "17ecee38-5b31-4863-d813-0f9b54719d0f"
      },
      "source": [
        "from IPython.display import Image\r\n",
        "Image('/content/drive/MyDrive/2.jpg', width=300,height=200)"
      ],
      "execution_count": 68,
      "outputs": [
        {
          "output_type": "execute_result",
          "data": {
            "image/jpeg": "[encoded data removed]",
            "text/plain": [
              "<IPython.core.display.Image object>"
            ]
          },
          "metadata": {
            "tags": [],
            "image/jpeg": {
              "width": 300,
              "height": 200
            }
          },
          "execution_count": 68
        }
      ]
    },
    {
      "cell_type": "code",
      "metadata": {
        "id": "SYc3aenGvZsp"
      },
      "source": [
        "preprocessed_image = prepare_image('/content/drive/MyDrive/2.jpg')\r\n",
        "predictions = mobile.predict(preprocessed_image)"
      ],
      "execution_count": 69,
      "outputs": []
    },
    {
      "cell_type": "code",
      "metadata": {
        "colab": {
          "base_uri": "https://localhost:8080/"
        },
        "id": "Q6z1dxvOvdfW",
        "outputId": "598a406b-3b89-431c-867d-595591c46a5e"
      },
      "source": [
        "results = imagenet_utils.decode_predictions(predictions) #It returns the top five ImageNet class predictions with the ImageNet class ID, the class label, and the probability.\r\n",
        "results"
      ],
      "execution_count": 70,
      "outputs": [
        {
          "output_type": "execute_result",
          "data": {
            "text/plain": [
              "[[('n02110063', 'malamute', 0.6646695),\n",
              "  ('n02109961', 'Eskimo_dog', 0.18403423),\n",
              "  ('n02091467', 'Norwegian_elkhound', 0.08003064),\n",
              "  ('n02110185', 'Siberian_husky', 0.07077081),\n",
              "  ('n02112350', 'keeshond', 0.00037653683)]]"
            ]
          },
          "metadata": {
            "tags": []
          },
          "execution_count": 70
        }
      ]
    },
    {
      "cell_type": "markdown",
      "metadata": {
        "id": "C2On_jV0vzgs"
      },
      "source": [
        "### 3. **Golden Retriver**"
      ]
    },
    {
      "cell_type": "code",
      "metadata": {
        "colab": {
          "base_uri": "https://localhost:8080/",
          "height": 217
        },
        "id": "RE7EUU5bwInF",
        "outputId": "421c8f1b-18f5-460f-b137-340034320250"
      },
      "source": [
        "from IPython.display import Image\r\n",
        "Image('/content/drive/MyDrive/3.jpg', width=300,height=200)"
      ],
      "execution_count": 71,
      "outputs": [
        {
          "output_type": "execute_result",
          "data": {
            "image/jpeg": "[encoded data removed]",
            "text/plain": [
              "<IPython.core.display.Image object>"
            ]
          },
          "metadata": {
            "tags": [],
            "image/jpeg": {
              "width": 300,
              "height": 200
            }
          },
          "execution_count": 71
        }
      ]
    },
    {
      "cell_type": "code",
      "metadata": {
        "id": "BnDfmCUmwIyH"
      },
      "source": [
        "preprocessed_image = prepare_image('/content/drive/MyDrive/3.jpg')\r\n",
        "predictions = mobile.predict(preprocessed_image)"
      ],
      "execution_count": 72,
      "outputs": []
    },
    {
      "cell_type": "code",
      "metadata": {
        "colab": {
          "base_uri": "https://localhost:8080/"
        },
        "id": "61X2E5hawI6u",
        "outputId": "f024a0a1-4b9a-493e-fc58-14c3caf87b4f"
      },
      "source": [
        "results = imagenet_utils.decode_predictions(predictions) #It returns the top five ImageNet class predictions with the ImageNet class ID, the class label, and the probability.\r\n",
        "results"
      ],
      "execution_count": 73,
      "outputs": [
        {
          "output_type": "execute_result",
          "data": {
            "text/plain": [
              "[[('n02099601', 'golden_retriever', 0.9984137),\n",
              "  ('n02100877', 'Irish_setter', 0.0010598405),\n",
              "  ('n02102318', 'cocker_spaniel', 0.00016101205),\n",
              "  ('n02100735', 'English_setter', 8.190106e-05),\n",
              "  ('n02091831', 'Saluki', 5.2965304e-05)]]"
            ]
          },
          "metadata": {
            "tags": []
          },
          "execution_count": 73
        }
      ]
    },
    {
      "cell_type": "markdown",
      "metadata": {
        "id": "sHxuB3mkw0og"
      },
      "source": [
        "### 4. **Pug**"
      ]
    },
    {
      "cell_type": "code",
      "metadata": {
        "colab": {
          "base_uri": "https://localhost:8080/",
          "height": 317
        },
        "id": "BJlDVqLRw5It",
        "outputId": "449414da-77c6-4e15-9576-a50423b602cf"
      },
      "source": [
        "from IPython.display import Image\r\n",
        "Image('/content/drive/MyDrive/4.jpg', width=300,height=300)"
      ],
      "execution_count": 75,
      "outputs": [
        {
          "output_type": "execute_result",
          "data": {
            "image/jpeg": "[encoded data removed]",
            "text/plain": [
              "<IPython.core.display.Image object>"
            ]
          },
          "metadata": {
            "tags": [],
            "image/jpeg": {
              "width": 300,
              "height": 300
            }
          },
          "execution_count": 75
        }
      ]
    },
    {
      "cell_type": "code",
      "metadata": {
        "id": "cm8hN_YHw5KJ"
      },
      "source": [
        "preprocessed_image = prepare_image('/content/drive/MyDrive/4.jpg')\r\n",
        "predictions = mobile.predict(preprocessed_image)"
      ],
      "execution_count": 76,
      "outputs": []
    },
    {
      "cell_type": "code",
      "metadata": {
        "colab": {
          "base_uri": "https://localhost:8080/"
        },
        "id": "ylIbaTjNw5OB",
        "outputId": "813d6fda-d155-4b2d-8b6c-95e1afec80cd"
      },
      "source": [
        "results = imagenet_utils.decode_predictions(predictions) #It returns the top five ImageNet class predictions with the ImageNet class ID, the class label, and the probability.\r\n",
        "results"
      ],
      "execution_count": 77,
      "outputs": [
        {
          "output_type": "execute_result",
          "data": {
            "text/plain": [
              "[[('n02110958', 'pug', 0.7409717),\n",
              "  ('n02086079', 'Pekinese', 0.07781251),\n",
              "  ('n02112706', 'Brabancon_griffon', 0.061770875),\n",
              "  ('n02111129', 'Leonberg', 0.02699015),\n",
              "  ('n02098413', 'Lhasa', 0.018542895)]]"
            ]
          },
          "metadata": {
            "tags": []
          },
          "execution_count": 77
        }
      ]
    }
  ]
}